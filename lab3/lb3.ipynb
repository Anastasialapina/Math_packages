{
  "nbformat": 4,
  "nbformat_minor": 5,
  "metadata": {
    "kernelspec": {
      "display_name": "Python 3 (ipykernel)",
      "language": "python",
      "name": "python3"
    },
    "language_info": {
      "codemirror_mode": {
        "name": "ipython",
        "version": 3
      },
      "file_extension": ".py",
      "mimetype": "text/x-python",
      "name": "python",
      "nbconvert_exporter": "python",
      "pygments_lexer": "ipython3",
      "version": "3.8.10"
    },
    "colab": {
      "name": "lb3.ipynb",
      "provenance": []
    }
  },
  "cells": [
    {
      "cell_type": "markdown",
      "metadata": {
        "id": "9997a868"
      },
      "source": [
        "# Лабораторная работа №3  \n",
        "Выполнила студентка гр. 9383 Лапина Анастасия, вариант 8.\n",
        "\n",
        "(48 для 1, 2 задания; 68 для 3 задания)  \n",
        "\n",
        "## Цель работы.  \n",
        "Практическое применение библиотеки символьных вычислений Python\n",
        "(SymPy) для решения задач дискретной математики и математической логики.\n",
        "\n",
        "## Задачи лабораторной работы\n",
        "1. Решить свой вариант диофантова уравнения.\n",
        "2. Имея открытую часть ключа RSA найти соответствующую закрытую часть и расшифровать кодированное слово.\n",
        "3. Записать в формате ДНФ и КНФ булеву функцию, заданную своим аналитическим выражением.\n",
        "\n",
        "### 1. Решить диофантово уравнение. \n",
        "Вариант 48.\n",
        "\n",
        "Решить диофантово уравнение 2009x − 1428y = −49\n"
      ],
      "id": "9997a868"
    },
    {
      "cell_type": "code",
      "metadata": {
        "colab": {
          "base_uri": "https://localhost:8080/"
        },
        "id": "10ef7fd4",
        "outputId": "18519f15-6d22-4751-e98d-2dae5f87d49f"
      },
      "source": [
        "from sympy.solvers.diophantine import diophantine\n",
        "\n",
        "diophantine(sympify(\"2009*x - 1428*y + 49\"))"
      ],
      "id": "10ef7fd4",
      "execution_count": 27,
      "outputs": [
        {
          "output_type": "execute_result",
          "data": {
            "text/plain": [
              "{(204*t_0 - 413, 287*t_0 - 581)}"
            ]
          },
          "metadata": {},
          "execution_count": 27
        }
      ]
    },
    {
      "cell_type": "markdown",
      "metadata": {
        "id": "925c5a8c"
      },
      "source": [
        "### 2. Имея открытую часть ключа RSA найти соответствующую закрытую часть и расшифровать кодированное слово.\n",
        "Вариант 48.\n",
        "\n",
        "Русское слово из четырех букв закодировано при помощи алгоритма RSA открытым ключом (e = 11, m = 33).\n",
        "Шифрованное сообщение имеет вид (2; 21; 6; 10). Подберите закрытую часть ключа и прочитайте исходное слово.\n",
        "Буквам русского алфавита соответсвуют числа в диапазоне от 2 до 32 (исключены буквы “e” и “ъ”).\n",
        "\n"
      ],
      "id": "925c5a8c"
    },
    {
      "cell_type": "code",
      "metadata": {
        "colab": {
          "base_uri": "https://localhost:8080/"
        },
        "id": "xc0DMBkNS1Ye",
        "outputId": "1b67330e-6d29-480a-c9ac-ff87d86f9ab7"
      },
      "source": [
        "from sympy.crypto.crypto import rsa_private_key, decipher_rsa\n",
        "\n",
        "key = rsa_private_key(33, 11)\n",
        "\n",
        "message = [2, 21, 6, 10]\n",
        "a = ['а', 'б', 'в', 'г', 'д', 'е', 'ж', 'з', 'и', 'й', 'к', 'л', 'м', 'н', 'о', 'п',\n",
        "      'р', 'с', 'т', 'у', 'ф', 'х', 'ц', 'ч', 'ш', 'щ', 'ы', 'ь', 'э', 'ю', 'я']\n",
        "res = [a[decipher_rsa(i, key)-2] for i in message]\n",
        "print(f\"{''.join(res)}\")"
      ],
      "id": "xc0DMBkNS1Ye",
      "execution_count": 14,
      "outputs": [
        {
          "output_type": "stream",
          "name": "stdout",
          "text": [
            "ауди\n"
          ]
        }
      ]
    },
    {
      "cell_type": "markdown",
      "metadata": {
        "id": "456bb869"
      },
      "source": [
        "### 3. Записать в формате ДНФ и КНФ булеву функцию, заданную своим аналитическим выражением.\n",
        "Вариант 68.\n",
        "\n",
        "f(x, y, z) = (x(y or z)) xor ((z xor y) or (yx)):\n"
      ],
      "id": "456bb869"
    },
    {
      "cell_type": "code",
      "metadata": {
        "colab": {
          "base_uri": "https://localhost:8080/"
        },
        "id": "a013f99c",
        "outputId": "7218720f-433b-4003-9704-a6178f364fb0"
      },
      "source": [
        "f = sympify(\"((x & (y | z)) ^ ((z ^ y) | (y & x)))\", convert_xor=False)\n",
        "DNF = to_dnf(f, simplify=True)\n",
        "CNF = to_cnf(f, simplify=True)\n",
        "print(\"ДНФ: \", DNF)\n",
        "print(\"КНФ: \", CNF)\n"
      ],
      "id": "a013f99c",
      "execution_count": 20,
      "outputs": [
        {
          "output_type": "stream",
          "name": "stdout",
          "text": [
            "ДНФ:  (y & ~x & ~z) | (z & ~x & ~y)\n",
            "КНФ:  ~x & (y | z) & (~y | ~z)\n"
          ]
        }
      ]
    },
    {
      "cell_type": "markdown",
      "metadata": {
        "id": "aeaf6984"
      },
      "source": [
        "## Выводы.\n",
        "В ходе выполнения лабораторной работы были подробно изучены некоторые функции библиотеки sympy для решения задач дискретной математики и математической логики."
      ],
      "id": "aeaf6984"
    }
  ]
}